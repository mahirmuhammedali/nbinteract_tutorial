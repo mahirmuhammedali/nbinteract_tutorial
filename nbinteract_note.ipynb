{
 "cells": [
  {
   "cell_type": "code",
   "execution_count": 18,
   "id": "2c52e2d8",
   "metadata": {},
   "outputs": [],
   "source": [
    "import numpy as np\n",
    "import pandas as pd\n",
    "import nbinteract as nbi\n",
    "\n",
    "import ipywidgets as widgets\n",
    "from ipywidgets import interact, interact_manual"
   ]
  },
  {
   "cell_type": "code",
   "execution_count": 13,
   "id": "4dab466c",
   "metadata": {},
   "outputs": [],
   "source": [
    "# !jupyter --version"
   ]
  },
  {
   "cell_type": "code",
   "execution_count": 12,
   "id": "8ba070ba",
   "metadata": {},
   "outputs": [],
   "source": [
    "# !pip install nbinteract"
   ]
  },
  {
   "cell_type": "code",
   "execution_count": 10,
   "id": "f39740d3",
   "metadata": {},
   "outputs": [],
   "source": [
    "def normal(mean, sd):\n",
    "    '''Returns 1000 points drawn at random fron N(mean, sd)'''\n",
    "    return np.random.normal(mean, sd, 1000)"
   ]
  },
  {
   "cell_type": "code",
   "execution_count": 14,
   "id": "dd2ba25e",
   "metadata": {},
   "outputs": [],
   "source": [
    "# normal(10, 1.0)"
   ]
  },
  {
   "cell_type": "code",
   "execution_count": 28,
   "id": "fa78207b",
   "metadata": {},
   "outputs": [],
   "source": [
    "# Plot aesthetics\n",
    "options = {\n",
    "    'xlim': (-2, 12),\n",
    "    'ylim': (0, 0.7),\n",
    "    'bins': 20\n",
    "}\n",
    "\n",
    "# Pass in the `normal` function and let user change mean and sd.\n",
    "# Whenever the user interacts with the sliders, the `normal` function\n",
    "# is called and the returned data are plotted.\n",
    "\n",
    "# nbi.hist(normal, mean=(0, 10), sd=(0, 2.0), options=options)\n",
    "\n",
    "# Clicking the Show widget button below loads all widgets on the page.\n",
    "# Widgets will automatically load for all subsequent pages until you close\n",
    "# the tab/window."
   ]
  },
  {
   "cell_type": "code",
   "execution_count": 30,
   "id": "48326e4c",
   "metadata": {},
   "outputs": [],
   "source": [
    "rolls = np.random.choice([1, 2, 3, 4, 5, 6], size=300)\n",
    "averages = np.cumsum(rolls) / np.arange(1, 301)\n",
    "\n",
    "def x_vals(num_rolls):\n",
    "    return range(num_rolls)\n",
    "\n",
    "# The function to generate y-values gets called with the\n",
    "# x-values as its first argument.\n",
    "def y_vals(xs):\n",
    "    return averages[:len(xs)]"
   ]
  },
  {
   "cell_type": "code",
   "execution_count": 29,
   "id": "8846b12c",
   "metadata": {},
   "outputs": [],
   "source": [
    "# nbi.line(x_vals, y_vals, num_rolls=(1, 300))"
   ]
  },
  {
   "cell_type": "code",
   "execution_count": 19,
   "id": "5cb6a644",
   "metadata": {},
   "outputs": [],
   "source": [
    "def f(x):\n",
    "    return x"
   ]
  },
  {
   "cell_type": "code",
   "execution_count": 20,
   "id": "27e8ad90",
   "metadata": {},
   "outputs": [
    {
     "data": {
      "application/vnd.jupyter.widget-view+json": {
       "model_id": "a58459b545d646a99f52476ebf281ec4",
       "version_major": 2,
       "version_minor": 0
      },
      "text/plain": [
       "interactive(children=(IntSlider(value=10, description='x', max=30, min=-10), Output()), _dom_classes=('widget-…"
      ]
     },
     "metadata": {},
     "output_type": "display_data"
    },
    {
     "data": {
      "text/plain": [
       "<function __main__.f(x)>"
      ]
     },
     "execution_count": 20,
     "metadata": {},
     "output_type": "execute_result"
    }
   ],
   "source": [
    "interact(f, x=10)"
   ]
  },
  {
   "cell_type": "code",
   "execution_count": 24,
   "id": "3d0ee76b",
   "metadata": {},
   "outputs": [
    {
     "data": {
      "application/vnd.jupyter.widget-view+json": {
       "model_id": "facb1eb61bdf4dc1b74421fb2e366500",
       "version_major": 2,
       "version_minor": 0
      },
      "text/plain": [
       "interactive(children=(Checkbox(value=True, description='x'), Output()), _dom_classes=('widget-interact',))"
      ]
     },
     "metadata": {},
     "output_type": "display_data"
    },
    {
     "data": {
      "text/plain": [
       "<function __main__.f(x)>"
      ]
     },
     "execution_count": 24,
     "metadata": {},
     "output_type": "execute_result"
    }
   ],
   "source": [
    "interact(f, x=True)"
   ]
  },
  {
   "cell_type": "code",
   "execution_count": 25,
   "id": "82c0fde9",
   "metadata": {},
   "outputs": [
    {
     "data": {
      "application/vnd.jupyter.widget-view+json": {
       "model_id": "247fd7ad3e804b16834a25ab78849353",
       "version_major": 2,
       "version_minor": 0
      },
      "text/plain": [
       "interactive(children=(Text(value='Hi There', description='x'), Output()), _dom_classes=('widget-interact',))"
      ]
     },
     "metadata": {},
     "output_type": "display_data"
    },
    {
     "data": {
      "text/plain": [
       "<function __main__.f(x)>"
      ]
     },
     "execution_count": 25,
     "metadata": {},
     "output_type": "execute_result"
    }
   ],
   "source": [
    "interact(f, x='Hi There')"
   ]
  },
  {
   "cell_type": "code",
   "execution_count": 27,
   "id": "a3f44e78",
   "metadata": {},
   "outputs": [
    {
     "data": {
      "application/vnd.jupyter.widget-view+json": {
       "model_id": "8c2bd78ceffb45c6bd96e186d9740b44",
       "version_major": 2,
       "version_minor": 0
      },
      "text/plain": [
       "interactive(children=(Checkbox(value=True, description='x'), FloatSlider(value=1.0, description='y', max=3.0, …"
      ]
     },
     "metadata": {},
     "output_type": "display_data"
    }
   ],
   "source": [
    "@interact(x=True, y=1.0)\n",
    "def g(x,y):\n",
    "    return x, y"
   ]
  },
  {
   "cell_type": "code",
   "execution_count": null,
   "id": "4d5265dd",
   "metadata": {},
   "outputs": [],
   "source": []
  }
 ],
 "metadata": {
  "kernelspec": {
   "display_name": "Python 3",
   "language": "python",
   "name": "python3"
  },
  "language_info": {
   "codemirror_mode": {
    "name": "ipython",
    "version": 3
   },
   "file_extension": ".py",
   "mimetype": "text/x-python",
   "name": "python",
   "nbconvert_exporter": "python",
   "pygments_lexer": "ipython3",
   "version": "3.8.8"
  }
 },
 "nbformat": 4,
 "nbformat_minor": 5
}
